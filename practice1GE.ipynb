{
  "nbformat": 4,
  "nbformat_minor": 0,
  "metadata": {
    "colab": {
      "provenance": []
    },
    "kernelspec": {
      "name": "python3",
      "display_name": "Python 3"
    },
    "language_info": {
      "name": "python"
    }
  },
  "cells": [
    {
      "cell_type": "code",
      "execution_count": null,
      "metadata": {
        "colab": {
          "base_uri": "https://localhost:8080/"
        },
        "id": "BSTNG-_r9UXH",
        "outputId": "3bf4fcda-d318-4d63-dfbf-bfbde009f476"
      },
      "outputs": [
        {
          "output_type": "stream",
          "name": "stdout",
          "text": [
            "A= [1, 2, 3, 4]\n",
            "A= [1, 2, 3, 4, 5]\n",
            "A= [1, 2, 3, 4, 5, 6]\n",
            "A= [1, 2, 3, 4, 5, 6, 7]\n",
            "A= [1, 2, 3, 4, 5, 6, 7, 8]\n",
            "A= [1, 2, 3, 4, 5, 6, 7, 8, 9]\n",
            "A= [1, 2, 3, 4, 5, 6, 7, 8, 9, 10]\n"
          ]
        }
      ],
      "source": [
        "A=[1,2,3]\n",
        "\n",
        "for i in range(4,11,1):\n",
        "  A.append(i)\n",
        "  print('A=',A)\n",
        "\n"
      ]
    },
    {
      "cell_type": "code",
      "source": [
        "A=[1,2,3]\n",
        "\n",
        "B=A\n",
        "print('B=',B)\n",
        "print('A=',A)\n",
        "\n",
        "A[0]=100\n",
        "print('A=',A)\n",
        "print('B=',B)\n",
        "\n",
        "\n"
      ],
      "metadata": {
        "colab": {
          "base_uri": "https://localhost:8080/"
        },
        "id": "qKpM_FEU9ypB",
        "outputId": "13643ce4-ec4a-405d-8f14-ea7802f3aae8"
      },
      "execution_count": null,
      "outputs": [
        {
          "output_type": "stream",
          "name": "stdout",
          "text": [
            "B= [1, 2, 3]\n",
            "A= [1, 2, 3]\n",
            "A= [100, 2, 3]\n",
            "B= [100, 2, 3]\n"
          ]
        }
      ]
    },
    {
      "cell_type": "code",
      "source": [
        "A=[1,2,3]\n",
        "\n",
        "B=A\n",
        "print('B=',B)\n",
        "print('A=',A)\n",
        "B=A[:]\n",
        "A[0]=100\n",
        "print('A=',A)\n",
        "print('B=',B)"
      ],
      "metadata": {
        "colab": {
          "base_uri": "https://localhost:8080/"
        },
        "id": "bBsY_cVP-mhl",
        "outputId": "84c4f0f5-b860-4e06-c766-c2add1bc1f46"
      },
      "execution_count": null,
      "outputs": [
        {
          "output_type": "stream",
          "name": "stdout",
          "text": [
            "B= [1, 2, 3]\n",
            "A= [1, 2, 3]\n",
            "A= [100, 2, 3]\n",
            "B= [1, 2, 3]\n"
          ]
        }
      ]
    },
    {
      "cell_type": "code",
      "source": [
        "import numpy as np\n",
        "A=[[1,2,3],[4,5,6],[7,8,9]]\n",
        "B=[[0,0,1],[8,9,7],[6,4,2]]\n",
        "\n",
        "C=np.matmul(A,B)\n",
        "print('C=',C)\n",
        "D=np.dot(A,B)\n",
        "print('')\n",
        "print('D=',D)\n",
        "x=[1,7,8]\n",
        "E=np.dot(A,x)\n",
        "print('A*x^T=',x)\n",
        "R=A[1][:]\n",
        "print('Row 2 =',R)"
      ],
      "metadata": {
        "colab": {
          "base_uri": "https://localhost:8080/"
        },
        "id": "YqymaXbQ_lBx",
        "outputId": "3d4ff527-88ac-4f03-ae31-c0cdd3680bfa"
      },
      "execution_count": null,
      "outputs": [
        {
          "output_type": "stream",
          "name": "stdout",
          "text": [
            "C= [[ 34  30  21]\n",
            " [ 76  69  51]\n",
            " [118 108  81]]\n",
            "\n",
            "D= [[ 34  30  21]\n",
            " [ 76  69  51]\n",
            " [118 108  81]]\n",
            "A*x^T= [1, 7, 8]\n",
            "Row 2 = [4, 5, 6]\n"
          ]
        }
      ]
    },
    {
      "cell_type": "code",
      "source": [
        "import numpy as np\n",
        "A=np.array([[1,2,3],[4,5,6],[7,8,9]])\n",
        "print('column 1=',A[:,0])\n",
        "\n"
      ],
      "metadata": {
        "colab": {
          "base_uri": "https://localhost:8080/"
        },
        "id": "gOHYU1StQoq8",
        "outputId": "aacd79b5-2bea-4b7f-9b4d-3ee64f18ffcc"
      },
      "execution_count": null,
      "outputs": [
        {
          "output_type": "stream",
          "name": "stdout",
          "text": [
            "column 1= [1 4 7]\n"
          ]
        }
      ]
    },
    {
      "cell_type": "code",
      "source": [
        "x=(0.9+0.25)+0.6\n",
        "y=0.9+(0.25+0.6)\n",
        "z=10**16\n",
        "o=(1-x/y)*z\n",
        "print('output=',o)"
      ],
      "metadata": {
        "colab": {
          "base_uri": "https://localhost:8080/"
        },
        "id": "s0yhO7jcQqXY",
        "outputId": "4729895c-d08d-4f6f-85d0-8888b5e75758"
      },
      "execution_count": null,
      "outputs": [
        {
          "output_type": "stream",
          "name": "stdout",
          "text": [
            "output= 0.0\n"
          ]
        }
      ]
    },
    {
      "cell_type": "code",
      "source": [
        "e=1021\n",
        "c=2**e\n",
        "for i in range (0,3):\n",
        "  e+=1\n",
        "  a=x/x\n",
        "  b=1/c\n",
        "  print('a=',a,'','b=',b)"
      ],
      "metadata": {
        "colab": {
          "base_uri": "https://localhost:8080/"
        },
        "id": "teA76tSSS0DW",
        "outputId": "7022df93-45d4-4c95-dbe1-489be9992236"
      },
      "execution_count": null,
      "outputs": [
        {
          "output_type": "stream",
          "name": "stdout",
          "text": [
            "a= 1.0  b= 2.2250738585072014e-308\n",
            "a= 1.0  b= 2.2250738585072014e-308\n",
            "a= 1.0  b= 2.2250738585072014e-308\n"
          ]
        }
      ]
    },
    {
      "cell_type": "code",
      "source": [
        "A=[[2,1,-1],[4,0,-1],[-8,2,2]]\n",
        "b=[6,6,-8]\n",
        "\n",
        "m=[[0]*3 for i in range(3)]\n",
        "m[0][0]=1\n",
        "m[1][1]=1\n",
        "m[2][2]=1\n",
        "\n",
        "\n",
        "indicator=1\n",
        "if A[0][0]!=0:\n",
        "\n",
        "  m[1][0]=A[1][0]/A[0][0]\n",
        "  m[2][0]=A[2][0]/A[0][0]\n",
        "\n",
        "  A1=[[0]*3 for i in range(3)]\n",
        "  b1=[0,0,0]\n",
        "  A1[0][0]=A[0][0]\n",
        "  A1[0][1]=A[0][1]\n",
        "  A1[0][2]=A[0][2]\n",
        "  b[0]=b1[0]\n",
        "\n",
        "  A1[1][1]=A[1][1]-m[1][0]*A[0][1]\n",
        "  A1[1][2]=A[1][2]-m[1][0]*A[0][2]\n",
        "  A1[2][1]=A[2][1]-m[2][0]*A[0][1]\n",
        "  A1[2][2]=A[2][2]-m[2][0]*A[0][2]\n",
        "  b1[1]=b[1]-m[1][0]*b[0]\n",
        "  b1[2]=b[2]-m[2][0]*b[0]\n",
        "\n",
        "else:\n",
        "  indicator=0\n",
        "  print('method fails')\n",
        "\n",
        "def backsubstitution(U,b):\n",
        "  x=[0,0,0]\n",
        "  x[2]=b[2]/U[2][2]\n",
        "  x[1]=(b[1]-U[1][2]*x[2])/U[1][1]\n",
        "  x[0]=(b[0]-U[0][2]*x[2]-U[0][1]*x[1])/U[0][0]\n",
        "\n",
        "  return x\n",
        "\n",
        "\n",
        "\n",
        "\n",
        "\n",
        "\n",
        "if indicator:\n",
        "  A2=[[0]*3 for i in range(3)]\n",
        "  b2=[0,0,0]\n",
        "  A2[0][0]=A1[0][0]\n",
        "  A2[0][1]=A1[0][1]\n",
        "  A2[0][2]=A1[0][2]\n",
        "  A2[1][0]=A1[1][0]\n",
        "  A2[1][1]=A1[1][1]\n",
        "  A2[1][2]=A1[1][2]\n",
        "  b2[0]=b1[0]\n",
        "  b2[1]=b1[1]\n",
        "\n",
        "  if A1[1][1]!=0:\n",
        "    m[2][1]=A1[2][1]/A1[1][1]\n",
        "    A2[2][2]=A1[2][2]-m[2][1]*A1[1][2]\n",
        "    b2[2]=b1[2]-m[2][1]*b1[1]\n",
        "\n",
        "    if A[2][2]!=0:\n",
        "      x=backsubstitution(A2,b2)\n",
        "      print('The solution of given system is',x)\n",
        "\n",
        "\n",
        "    else:\n",
        "      print('oops method still failed.')\n",
        "\n",
        "\n",
        "\n",
        "\n",
        "\n",
        "\n",
        "\n",
        "\n",
        "\n",
        "\n",
        "\n",
        "\n",
        "\n",
        "\n",
        "\n",
        "\n",
        "\n",
        "\n",
        "\n"
      ],
      "metadata": {
        "colab": {
          "base_uri": "https://localhost:8080/"
        },
        "id": "VB6bRhoJztGm",
        "outputId": "2db37cf1-b8e9-41fb-9bc5-969db31dfa0b"
      },
      "execution_count": 12,
      "outputs": [
        {
          "output_type": "stream",
          "name": "stdout",
          "text": [
            "The solution of given system is [4.0, 2.0, 10.0]\n"
          ]
        }
      ]
    },
    {
      "cell_type": "code",
      "source": [],
      "metadata": {
        "id": "j-ltjF-B35Wq"
      },
      "execution_count": null,
      "outputs": []
    }
  ]
}